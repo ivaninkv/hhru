{
 "cells": [
  {
   "cell_type": "code",
   "execution_count": 1,
   "metadata": {
    "colab": {},
    "colab_type": "code",
    "id": "0LARDvzqTHJk"
   },
   "outputs": [],
   "source": [
    "import requests\n",
    "import pandas as pd\n",
    "import json\n",
    "import math\n",
    "pd.set_option('display.max_columns', 100)"
   ]
  },
  {
   "cell_type": "code",
   "execution_count": 2,
   "metadata": {
    "colab": {},
    "colab_type": "code",
    "id": "7YY5Xd2PTHJ3"
   },
   "outputs": [],
   "source": [
    "r = requests.get('https://api.hh.ru/vacancies', params={'text':'Data Engineer', 'area':'1', 'per_page':100})\n",
    "per_page = r.json()['per_page']\n",
    "pages = r.json()['pages']"
   ]
  },
  {
   "cell_type": "code",
   "execution_count": 3,
   "metadata": {
    "colab": {},
    "colab_type": "code",
    "id": "2EiFLs94THJ8"
   },
   "outputs": [],
   "source": [
    "vacs = []\n",
    "empls = set()\n",
    "for p in range(pages):    \n",
    "    r = requests.get('https://api.hh.ru/vacancies', params={'page': p, 'per_page':per_page, 'text':'Data Engineer', 'area':'1'}).json()['items']\n",
    "    for i in range(len(r)): \n",
    "        empls.add(r[i]['employer']['url'])\n",
    "        vacs.append(r[i]['url'])"
   ]
  },
  {
   "cell_type": "code",
   "execution_count": 4,
   "metadata": {
    "colab": {},
    "colab_type": "code",
    "id": "OiXPRYdeTHKB"
   },
   "outputs": [],
   "source": [
    "det_empl = []\n",
    "for empl in empls:\n",
    "    det_empl.append(requests.get(empl).json())\n",
    "    #if len(det_empl) == 10:\n",
    "    #    break\n",
    "\n",
    "empl_df = pd.DataFrame(det_empl)[['id', 'name', 'industries']]"
   ]
  },
  {
   "cell_type": "code",
   "execution_count": 5,
   "metadata": {
    "colab": {},
    "colab_type": "code",
    "id": "4Gww-VZoTHKF"
   },
   "outputs": [],
   "source": [
    "industries = []\n",
    "for i in range(len(empl_df.id)):        \n",
    "    for j in empl_df.industries[i]:        \n",
    "        industries.append([empl_df.id[i], j['id'], j['name']])\n",
    "         \n",
    "ind_df = pd.DataFrame(industries, columns=['empl_id', 'id', 'name'])\n",
    "empl_df.drop('industries', axis=1, inplace=True)"
   ]
  },
  {
   "cell_type": "code",
   "execution_count": 6,
   "metadata": {
    "colab": {},
    "colab_type": "code",
    "id": "iZy0XdjiTHKI"
   },
   "outputs": [
    {
     "name": "stdout",
     "output_type": "stream",
     "text": [
      "50 of 460\n",
      "100 of 460\n",
      "150 of 460\n",
      "200 of 460\n",
      "250 of 460\n",
      "300 of 460\n",
      "350 of 460\n",
      "400 of 460\n",
      "450 of 460\n"
     ]
    }
   ],
   "source": [
    "det_vac = []\n",
    "for vac in vacs:\n",
    "    det_vac.append(requests.get(vac).json())\n",
    "    if len(det_vac) % 50 == 0:\n",
    "        print(f'{len(det_vac)} of {len(vacs)}')\n",
    "\n",
    "vac_df = pd.DataFrame(det_vac)[['id', 'name', 'alternate_url', 'description', 'employer', 'employment', 'experience', 'key_skills', 'salary', 'schedule', 'specializations']]"
   ]
  },
  {
   "cell_type": "code",
   "execution_count": 7,
   "metadata": {
    "colab": {},
    "colab_type": "code",
    "id": "4P-99Ke2U2YK"
   },
   "outputs": [],
   "source": [
    "skills = []\n",
    "for i in range(len(vac_df.id)):        \n",
    "    for j in vac_df.key_skills[i]:        \n",
    "        skills.append([vac_df.id[i], j['name']])\n",
    "         \n",
    "skill_df = pd.DataFrame(skills, columns=['vac_id', 'skill_name'])\n",
    "vac_df.drop('key_skills', axis=1, inplace=True)"
   ]
  },
  {
   "cell_type": "code",
   "execution_count": 8,
   "metadata": {
    "colab": {},
    "colab_type": "code",
    "id": "ZsZ6DdFvTHKM"
   },
   "outputs": [],
   "source": [
    "vac_df = vac_df.join(pd.read_json(vac_df.salary.to_json()).T)\n",
    "vac_df.drop('salary', axis=1, inplace=True)\n",
    "vac_df = vac_df.join(pd.read_json(vac_df.employer.to_json()).T['id'], rsuffix='_empl')\n",
    "vac_df.drop('employer', axis=1, inplace=True)\n",
    "vac_df.rename(columns={'id_empl':'empl_id'}, inplace=True)"
   ]
  },
  {
   "cell_type": "code",
   "execution_count": 9,
   "metadata": {
    "colab": {},
    "colab_type": "code",
    "id": "E-jYB2grWauL"
   },
   "outputs": [],
   "source": [
    "def calc_salary(from_, to_, gross, curr):  \n",
    "  if from_ == None:\n",
    "    from_ = float('NaN')\n",
    "  if to_ == None:\n",
    "    to_ = float('NaN')\n",
    "  if math.isnan(from_) and math.isnan(to_) or gross == None:\n",
    "    res = float('NaN')\n",
    "  if math.isnan(from_):\n",
    "    if gross == False:\n",
    "      res = to_ / 0.87\n",
    "    else:\n",
    "      res = to_\n",
    "  elif math.isnan(to_):\n",
    "    if gross == False:\n",
    "      res = from_ / 0.87\n",
    "    else:\n",
    "      res = from_ \n",
    "  else:\n",
    "    res = (from_ + to_) / 2\n",
    "    if gross == False:\n",
    "      res /= 0.87\n",
    "  if curr == 'USD' :\n",
    "    res *= 64.3\n",
    "  elif curr == 'EUR':\n",
    "    res *= 70.85\n",
    "\n",
    "  return res\n",
    "  \n",
    "vac_df['salary'] = vac_df.apply(lambda x: calc_salary(x['from'], x['to'], x['gross'], x['currency']), axis=1)\n",
    "vac_df.drop(['from', 'to', 'gross', 'currency'], axis=1, inplace=True)"
   ]
  },
  {
   "cell_type": "code",
   "execution_count": 10,
   "metadata": {
    "colab": {},
    "colab_type": "code",
    "id": "wqdOiCAKTHKP"
   },
   "outputs": [],
   "source": [
    "empl_df.to_csv('empl.csv', header=True, index=False)\n",
    "ind_df.to_csv('ind.csv', header=True, index=False)\n",
    "skill_df.to_csv('skills.csv', header=True, index=False)\n",
    "vac_df[['id', 'name', 'salary', 'empl_id']].to_csv('vac.csv', header=True, index=False)"
   ]
  },
  {
   "cell_type": "code",
   "execution_count": null,
   "metadata": {},
   "outputs": [],
   "source": []
  }
 ],
 "metadata": {
  "colab": {
   "collapsed_sections": [],
   "name": "hh.ipynb",
   "provenance": []
  },
  "kernelspec": {
   "display_name": "Python 3",
   "language": "python",
   "name": "python3"
  },
  "language_info": {
   "codemirror_mode": {
    "name": "ipython",
    "version": 3
   },
   "file_extension": ".py",
   "mimetype": "text/x-python",
   "name": "python",
   "nbconvert_exporter": "python",
   "pygments_lexer": "ipython3",
   "version": "3.8.0"
  }
 },
 "nbformat": 4,
 "nbformat_minor": 1
}
